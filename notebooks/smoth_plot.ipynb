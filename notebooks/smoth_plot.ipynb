{
 "cells": [
  {
   "cell_type": "code",
   "execution_count": null,
   "id": "22c60e61",
   "metadata": {},
   "outputs": [],
   "source": [
    "import json\n",
    "import matplotlib.pyplot as plt\n",
    "import numpy as np"
   ]
  },
  {
   "cell_type": "code",
   "execution_count": null,
   "id": "b6ce707b",
   "metadata": {},
   "outputs": [],
   "source": [
    "with open(\"../assets/data/fitness_stats.json\", \"r\") as f:\n",
    "\tdata = json.load(f)\n",
    "\n",
    "best = data[\"best\"]\n",
    "avg = data[\"avg\"]\n",
    "worst = data[\"worst\"]\n",
    "\n",
    "generations = np.arange(len(best))"
   ]
  },
  {
   "cell_type": "code",
   "execution_count": null,
   "id": "482f53e2",
   "metadata": {},
   "outputs": [],
   "source": [
    "def moving_average(data, window_size=50):\n",
    "    return [\n",
    "        sum(data[max(0, i - window_size + 1):i + 1]) / (i - max(0, i - window_size + 1) + 1)\n",
    "        for i in range(len(data))\n",
    "    ]"
   ]
  },
  {
   "cell_type": "code",
   "execution_count": null,
   "id": "58d4397f",
   "metadata": {},
   "outputs": [],
   "source": [
    "\n",
    "smooth_best = moving_average(best, window_size=50)\n",
    "smooth_avg = moving_average(avg, window_size=50)\n",
    "smooth_worst = moving_average(worst, window_size=50)\n",
    "\n",
    "fig, ax = plt.subplots(figsize=(12, 6))\n",
    "\n",
    "ax.fill_between(generations, worst, best, color=\"gray\", alpha=0.2, label=\"Fitness Range\")\n",
    "\n",
    "ax.plot(generations, smooth_best, label=\"Best Fitness (Smoothed)\", color=\"green\", linewidth=2)\n",
    "ax.plot(generations, smooth_avg, label=\"Average Fitness (Smoothed)\", color=\"blue\", linewidth=2)\n",
    "ax.plot(generations, smooth_worst, label=\"Worst Fitness (Smoothed)\", color=\"red\", linewidth=2)\n",
    "\n",
    "ax.plot(generations, best, color=\"green\", alpha=0.2, linestyle=\"--\")\n",
    "ax.plot(generations, avg, color=\"blue\", alpha=0.2, linestyle=\"--\")\n",
    "ax.plot(generations, worst, color=\"red\", alpha=0.2, linestyle=\"--\")\n",
    "\n",
    "ax.set_xlabel(\"Generation\", fontsize=12)\n",
    "ax.set_ylabel(\"Fitness\", fontsize=12)\n",
    "ax.set_title(\"LunarLander Fitness Progress\", fontsize=14)\n",
    "ax.legend(loc=\"lower right\")\n",
    "ax.grid(True)\n",
    "\n",
    "plt.tight_layout()\n",
    "plt.savefig(\"../assets/figures/smoothed_fitness_plot.png\", dpi=300)\n",
    "plt.show()\n"
   ]
  }
 ],
 "metadata": {
  "kernelspec": {
   "display_name": "base",
   "language": "python",
   "name": "python3"
  },
  "language_info": {
   "codemirror_mode": {
    "name": "ipython",
    "version": 3
   },
   "file_extension": ".py",
   "mimetype": "text/x-python",
   "name": "python",
   "nbconvert_exporter": "python",
   "pygments_lexer": "ipython3",
   "version": "3.12.7"
  }
 },
 "nbformat": 4,
 "nbformat_minor": 5
}
